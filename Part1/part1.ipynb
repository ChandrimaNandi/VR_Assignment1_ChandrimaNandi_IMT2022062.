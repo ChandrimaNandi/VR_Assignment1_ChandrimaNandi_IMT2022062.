{
 "cells": [
  {
   "cell_type": "code",
   "execution_count": 16,
   "metadata": {},
   "outputs": [],
   "source": [
    "import cv2 # OpenCV for image processing\n",
    "import numpy as np # Numpy for matrix operations\n",
    "import os # OS for file operations\n",
    "import glob # Glob for file operations"
   ]
  },
  {
   "cell_type": "markdown",
   "metadata": {},
   "source": [
    "Preprocessing"
   ]
  },
  {
   "cell_type": "code",
   "execution_count": 17,
   "metadata": {},
   "outputs": [],
   "source": [
    "def preprocessing(image_path: str):\n",
    "    # Load the image and check if it was successfully loaded\n",
    "    image = cv2.imread(image_path)\n",
    "    if image is None:\n",
    "        raise FileNotFoundError(f\"Cannot open image: {image_path}\")\n",
    "\n",
    "    # Calculate the scaling factor based on a maximum dimension of 800 pixels\n",
    "    h, w = image.shape[:2]\n",
    "    max_dim = max(h, w)\n",
    "    scale_factor = 800 / max_dim\n",
    "    resized = cv2.resize(image, (0, 0), fx=scale_factor, fy=scale_factor)\n",
    "\n",
    "    # Convert the resized image to grayscale\n",
    "    gray = cv2.cvtColor(resized, cv2.COLOR_BGR2GRAY)\n",
    "\n",
    "    # Apply Gaussian blur with a 7x7 kernel to smooth out the image\n",
    "    blurred = cv2.GaussianBlur(gray, (7, 7), 0)\n",
    "\n",
    "    # Apply adaptive thresholding using the MEAN method with a block size of 15 and constant 3\n",
    "    thresh = cv2.adaptiveThreshold(blurred, 255, cv2.ADAPTIVE_THRESH_MEAN_C,\n",
    "                                   cv2.THRESH_BINARY_INV, 15, 3)\n",
    "\n",
    "    # Construct an output directory using the base name of the image file\n",
    "    base_name = os.path.splitext(os.path.basename(image_path))[0]\n",
    "    output_dir = os.path.join(\"output\", base_name)\n",
    "    os.makedirs(output_dir, exist_ok=True)\n",
    "\n",
    "    # Save the thresholded image into the output directory\n",
    "    output_path = os.path.join(output_dir, \"thresh_img.jpg\")\n",
    "    cv2.imwrite(output_path, thresh)\n",
    "\n",
    "    return resized, thresh, scale_factor, base_name"
   ]
  },
  {
   "cell_type": "markdown",
   "metadata": {},
   "source": [
    "Detecting Edges"
   ]
  },
  {
   "cell_type": "code",
   "execution_count": 18,
   "metadata": {},
   "outputs": [],
   "source": [
    "\n",
    "def edge_detection(image, binary_img, scale_factor, filename):\n",
    "    # Locate contours in the binary (thresholded) image\n",
    "    contours, _ = cv2.findContours(binary_img, cv2.RETR_EXTERNAL, cv2.CHAIN_APPROX_SIMPLE)\n",
    "    valid_contours = []\n",
    "\n",
    "    # Evaluate each contour based on circularity and area criteria\n",
    "    for cnt in contours:\n",
    "        perimeter = cv2.arcLength(cnt, True)\n",
    "        if perimeter > 0:\n",
    "            # Compute circularity: 4*pi*Area/(Perimeter^2)\n",
    "            circ_value = 4 * np.pi * (cv2.contourArea(cnt) / (perimeter ** 2))\n",
    "            # Adjusted thresholds: circularity between 0.75 and 1.3 and area larger than 600*(scale_factor^2)\n",
    "            if 0.75 < circ_value < 1.3 and cv2.contourArea(cnt) > 600 * (scale_factor ** 2):\n",
    "                valid_contours.append(cnt)\n",
    "\n",
    "    # Outline valid contours on the original image in green with a thickness of 2 pixels\n",
    "    cv2.drawContours(image, valid_contours, -1, (0, 255, 0), 2)\n",
    "\n",
    "    # Define output directory using the filename without its extension\n",
    "    base_name = os.path.splitext(filename)[0]\n",
    "    output_dir = os.path.join(\"output\", base_name)\n",
    "    os.makedirs(output_dir, exist_ok=True)\n",
    "    cv2.imwrite(os.path.join(output_dir, \"DetectedEdges.jpg\"), image)\n",
    "\n",
    "    return valid_contours"
   ]
  },
  {
   "cell_type": "markdown",
   "metadata": {},
   "source": [
    "Segmentation"
   ]
  },
  {
   "cell_type": "code",
   "execution_count": 19,
   "metadata": {},
   "outputs": [],
   "source": [
    "def segmentation(image, detected_contours, image_name):\n",
    "    segmented_coins = []\n",
    "    # Create output directory for segmented coins\n",
    "    output_folder = \"output\"\n",
    "    image_output_folder = os.path.join(output_folder, image_name.split('.')[0])  # Extract image name without extension\n",
    "    os.makedirs(image_output_folder, exist_ok=True)\n",
    "\n",
    "    for i, contour in enumerate(detected_contours):\n",
    "        # Create a circular mask for each coin\n",
    "        (x, y), radius = cv2.minEnclosingCircle(contour)\n",
    "        center, radius = (int(x), int(y)), int(radius)\n",
    "        mask = np.zeros_like(image, dtype=np.uint8)\n",
    "        cv2.circle(mask, center, radius, (255, 255, 255), -1)\n",
    "        \n",
    "        # Extract the coin segment using bitwise AND\n",
    "        coin_segment = cv2.bitwise_and(image, mask)[center[1] - radius:center[1] + radius, center[0] - radius:center[0] + radius]\n",
    "        segmented_coins.append(coin_segment)\n",
    "        \n",
    "        # Save segmented coin directly\n",
    "        cv2.imwrite(os.path.join(image_output_folder, f\"Segmented_Coin_{i + 1}.jpg\"), coin_segment)\n",
    "    \n",
    "    return segmented_coins\n"
   ]
  },
  {
   "cell_type": "code",
   "execution_count": 20,
   "metadata": {},
   "outputs": [
    {
     "name": "stdout",
     "output_type": "stream",
     "text": [
      "Found images: ['input/coin2.jpg', 'input/coin9.jpg', 'input/coin4.jpg']\n",
      "Image: coin2 - Detected Coins: 2, Segmented Coins: 2\n",
      "Image: coin9 - Detected Coins: 6, Segmented Coins: 6\n",
      "Image: coin4 - Detected Coins: 4, Segmented Coins: 4\n"
     ]
    }
   ],
   "source": [
    "input_folder = \"input\"\n",
    "image_paths = glob.glob(os.path.join(input_folder, \"*.jpg\"))\n",
    "print(\"Found images:\", image_paths)\n",
    "\n",
    "for path in image_paths:\n",
    "    image, threshold, scale_factor, image_name = preprocessing(path)\n",
    "    detected_contours = edge_detection(image, threshold, scale_factor, image_name)\n",
    "    segmented_coins = segmentation(image, detected_contours, image_name)\n",
    "    \n",
    "    # Moved count_coin function here\n",
    "    def count_coin(detected_contours, segmented_coins):\n",
    "        return (len(detected_contours), len(segmented_coins))\n",
    "\n",
    "    detected, segmented = count_coin(detected_contours, segmented_coins)\n",
    "    print(f\"Image: {image_name} - Detected Coins: {detected}, Segmented Coins: {segmented}\")\n"
   ]
  }
 ],
 "metadata": {
  "kernelspec": {
   "display_name": "Python 3",
   "language": "python",
   "name": "python3"
  },
  "language_info": {
   "codemirror_mode": {
    "name": "ipython",
    "version": 3
   },
   "file_extension": ".py",
   "mimetype": "text/x-python",
   "name": "python",
   "nbconvert_exporter": "python",
   "pygments_lexer": "ipython3",
   "version": "3.8.10"
  }
 },
 "nbformat": 4,
 "nbformat_minor": 2
}
